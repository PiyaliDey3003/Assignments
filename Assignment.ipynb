{
 "cells": [
  {
   "cell_type": "markdown",
   "metadata": {},
   "source": [
    "# 1. Write a program which will find all such numbers which are divisible by 7 but are not a multiple of 5, between 2000 and 3200 (both included). The numbers obtained should be printed in a comma-separated sequence on a single line. "
   ]
  },
  {
   "cell_type": "code",
   "execution_count": null,
   "metadata": {},
   "outputs": [],
   "source": [
    "\n",
    "    "
   ]
  },
  {
   "cell_type": "code",
   "execution_count": 167,
   "metadata": {},
   "outputs": [
    {
     "name": "stdout",
     "output_type": "stream",
     "text": [
      "[2007, 2014, 2021, 2028, 2042, 2049, 2056, 2063, 2077, 2084, 2091, 2098, 2112, 2119, 2126, 2133, 2147, 2154, 2161, 2168, 2182, 2189, 2196, 2203, 2217, 2224, 2231, 2238, 2252, 2259, 2266, 2273, 2287, 2294, 2301, 2308, 2322, 2329, 2336, 2343, 2357, 2364, 2371, 2378, 2392, 2399, 2406, 2413, 2427, 2434, 2441, 2448, 2462, 2469, 2476, 2483, 2497, 2504, 2511, 2518, 2532, 2539, 2546, 2553, 2567, 2574, 2581, 2588, 2602, 2609, 2616, 2623, 2637, 2644, 2651, 2658, 2672, 2679, 2686, 2693, 2707, 2714, 2721, 2728, 2742, 2749, 2756, 2763, 2777, 2784, 2791, 2798, 2812, 2819, 2826, 2833, 2847, 2854, 2861, 2868, 2882, 2889, 2896, 2903, 2917, 2924, 2931, 2938, 2952, 2959, 2966, 2973, 2987, 2994, 3001, 3008, 3022, 3029, 3036, 3043, 3057, 3064, 3071, 3078, 3092, 3099, 3106, 3113, 3127, 3134, 3141, 3148, 3162, 3169, 3176, 3183, 3197]\n"
     ]
    }
   ],
   "source": [
    "lst=[i for i in list(range(2000,3200,7)) if i%5!=0]\n",
    "print(lst)\n",
    "     "
   ]
  },
  {
   "cell_type": "code",
   "execution_count": null,
   "metadata": {},
   "outputs": [],
   "source": []
  },
  {
   "cell_type": "markdown",
   "metadata": {},
   "source": [
    "# 2. Write a Python program to accept the user's first and last name and then getting them printed in the the reverse order with a space between first name and last name. \n"
   ]
  },
  {
   "cell_type": "code",
   "execution_count": 98,
   "metadata": {},
   "outputs": [
    {
     "name": "stdout",
     "output_type": "stream",
     "text": [
      "What is your fname? James\n",
      "What is your lname? Bond\n",
      "semaJ dnoB\n"
     ]
    }
   ],
   "source": [
    "Firstname = input(\"What is your fname? \")\n",
    "Lastname = input(\"What is your lname? \")\n",
    "print(Firstname [::-1]+\" \"+Lastname[::-1])\n"
   ]
  },
  {
   "cell_type": "markdown",
   "metadata": {},
   "source": [
    "# 3. Write a Python program to find the volume of a sphere with diameter 12 cm. Formula: V=4/3 * π * r 3"
   ]
  },
  {
   "cell_type": "code",
   "execution_count": 101,
   "metadata": {},
   "outputs": [
    {
     "name": "stdout",
     "output_type": "stream",
     "text": [
      "904.7786842338603\n"
     ]
    }
   ],
   "source": [
    "r=12/2\n",
    "V=4.0/3.0*math.pi*r**3\n",
    "print(V)"
   ]
  },
  {
   "cell_type": "code",
   "execution_count": null,
   "metadata": {},
   "outputs": [],
   "source": []
  }
 ],
 "metadata": {
  "kernelspec": {
   "display_name": "Python 3",
   "language": "python",
   "name": "python3"
  },
  "language_info": {
   "codemirror_mode": {
    "name": "ipython",
    "version": 3
   },
   "file_extension": ".py",
   "mimetype": "text/x-python",
   "name": "python",
   "nbconvert_exporter": "python",
   "pygments_lexer": "ipython3",
   "version": "3.8.3"
  }
 },
 "nbformat": 4,
 "nbformat_minor": 4
}
